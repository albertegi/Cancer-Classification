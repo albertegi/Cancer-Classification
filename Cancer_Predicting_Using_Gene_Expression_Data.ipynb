{
 "cells": [
  {
   "cell_type": "code",
   "execution_count": 4,
   "id": "3a7d1954-5f32-43a5-951e-779b4fabff7f",
   "metadata": {},
   "outputs": [],
   "source": [
    "import zipfile\n",
    "import io\n",
    "import requests\n",
    "\n",
    "# data handling\n",
    "import pandas as pd\n",
    "import numpy as np\n",
    "\n",
    "# data visualization\n",
    "import matplotlib.pyplot as plt\n",
    "import seaborn as sns\n",
    "from sklearn.model_selection import train_test_split\n",
    "from sklearn.preprocessing import LabelEncoder\n",
    "from sklearn.preprocessing import label_binarize\n",
    "from sklearn.preprocessing import MinMaxScaler\n",
    "from sklearn.preprocessing import LabelEncoder\n",
    "\n",
    "\n",
    "# feature selection\n",
    "from sklearn.feature_selection import mutual_info_classif\n",
    "\n",
    "# classification\n",
    "from sklearn.multiclass import OneVsRestClassifier\n",
    "from sklearn.ensemble import RandomForestClassifier\n",
    "\n",
    "# performance metrics\n",
    "from sklearn.metrics import balanced_accuracy_score, f1_score, precision_score, recall_score\n",
    "from sklearn.metrics import classification_report\n",
    "from sklearn.metrics import confusion_matrix\n",
    "from sklearn.metrics import roc_curve, auc\n",
    "from sklearn.metrics import roc_auc_score"
   ]
  },
  {
   "cell_type": "code",
   "execution_count": 5,
   "id": "523bc6d9-c8eb-4ece-8e75-183769e5ad7d",
   "metadata": {},
   "outputs": [
    {
     "name": "stdout",
     "output_type": "stream",
     "text": [
      "['cancer_gene_expression.csv']\n",
      "   gene_1  gene_2  gene_3    gene_4  gene_5  gene_6  gene_7  gene_8    gene_9  \\\n",
      "0     0.0     0.0     0.0  2.088413     0.0     0.0     0.0     0.0  0.550605   \n",
      "1     0.0     0.0     0.0  3.205955     0.0     0.0     0.0     0.0  0.425244   \n",
      "2     0.0     0.0     0.0  4.746646     0.0     0.0     0.0     0.0  2.639417   \n",
      "3     0.0     0.0     0.0  1.173191     0.0     0.0     0.0     0.0  1.527371   \n",
      "4     0.0     0.0     0.0  1.366532     0.0     0.0     0.0     0.0  0.000000   \n",
      "\n",
      "    gene_10  ...  gene_7992  gene_7993  gene_7994  gene_7995  gene_7996  \\\n",
      "0  2.815760  ...  11.558803   8.881802   6.014840   6.643534  11.740624   \n",
      "1  2.354396  ...  11.062829   9.032864   5.054193   6.432320  12.104985   \n",
      "2  1.657091  ...  12.497640   7.198160   0.943434   7.371690  11.202356   \n",
      "3  2.732899  ...  11.261713   8.725676   6.300418   6.036451  11.732303   \n",
      "4  3.388355  ...  12.241965   7.685204   5.142948   6.355788  11.493950   \n",
      "\n",
      "   gene_7997  gene_7998  gene_7999  gene_8000  Cancer_Type  \n",
      "0   7.065012   9.932659   6.928584   2.088413         KIRC  \n",
      "1   7.300746   9.872796   5.039231   2.448002         KIRC  \n",
      "2   8.426588  11.176890   3.119738   4.433988         BRCA  \n",
      "3   7.559469   9.596453   2.863046   3.380342         KIRC  \n",
      "4   8.139444  10.189256   6.544487   0.839395         COAD  \n",
      "\n",
      "[5 rows x 8001 columns]\n"
     ]
    }
   ],
   "source": [
    "# URL of the zip file on GitHub\n",
    "file_url = \"https://github.com/albertegi/Cancer-Classification/blob/main/cancer_gene_expression.zip?raw=true\"\n",
    "\n",
    "# Step 1: Download the zip file\n",
    "response = requests.get(file_url)\n",
    "response.raise_for_status()  # Ensure the download was successful\n",
    "\n",
    "# Step 2: Open the zip file in memory\n",
    "with zipfile.ZipFile(io.BytesIO(response.content)) as z:\n",
    "    # List files in the zip\n",
    "    print(z.namelist())\n",
    "    #extract and read it the csv file directly\n",
    "    with z.open('cancer_gene_expression.csv') as f:\n",
    "        dataframe = pd.read_csv(f)\n",
    "\n",
    "# Now `dataframe` should contain the data from the CSV file\n",
    "print(dataframe.head())"
   ]
  },
  {
   "cell_type": "markdown",
   "id": "8a8d9b6c-f133-460e-855f-4556510caf5f",
   "metadata": {},
   "source": [
    "# Data Exploration & Cleaning"
   ]
  },
  {
   "cell_type": "code",
   "execution_count": 6,
   "id": "bf0fa19f-ae49-44db-b051-326e6faf5a14",
   "metadata": {},
   "outputs": [
    {
     "name": "stdout",
     "output_type": "stream",
     "text": [
      "(801, 8001)\n"
     ]
    }
   ],
   "source": [
    "# Check the number of features and samples in the dataset\n",
    "# The last column contains the target variable\n",
    "print(dataframe.shape)"
   ]
  },
  {
   "cell_type": "code",
   "execution_count": 7,
   "id": "fd9cf330-781d-4c59-afa4-2efc78bbe104",
   "metadata": {},
   "outputs": [
    {
     "name": "stdout",
     "output_type": "stream",
     "text": [
      "Index(['gene_1', 'gene_2', 'gene_3', 'gene_4', 'gene_5'], dtype='object')\n"
     ]
    }
   ],
   "source": [
    "# Check the first five columns in the dataset\n",
    "print(dataframe.columns[0:5])"
   ]
  },
  {
   "cell_type": "code",
   "execution_count": 8,
   "id": "aae05ad2-e510-417e-8e08-e3baac046df9",
   "metadata": {},
   "outputs": [
    {
     "data": {
      "text/plain": [
       "'Cancer_Type'"
      ]
     },
     "execution_count": 8,
     "metadata": {},
     "output_type": "execute_result"
    }
   ],
   "source": [
    "# Check the name of the last column\n",
    "dataframe.columns[-1]"
   ]
  },
  {
   "cell_type": "code",
   "execution_count": 9,
   "id": "548297a8-bc0d-49fa-9657-de860224201c",
   "metadata": {},
   "outputs": [
    {
     "name": "stdout",
     "output_type": "stream",
     "text": [
      "Colums with missing values:0\n"
     ]
    }
   ],
   "source": [
    "#Check for missing values\n",
    "\n",
    "data_null_values = dataframe.isnull().sum()\n",
    "null_values = [data_null_value for data_null_value in data_null_values if data_null_value > 0]\n",
    "print('Colums with missing values:%d'%len(null_values))\n",
    "\n",
    "\n"
   ]
  },
  {
   "cell_type": "code",
   "execution_count": 10,
   "id": "2f1cce2b-12d0-4d28-9b3a-f2a38c8849b9",
   "metadata": {},
   "outputs": [
    {
     "data": {
      "text/plain": [
       "<Axes: ylabel='count'>"
      ]
     },
     "execution_count": 10,
     "metadata": {},
     "output_type": "execute_result"
    },
    {
     "data": {
      "image/png": "[encoded data removed]",
      "text/plain": [
       "<Figure size 1000x500 with 1 Axes>"
      ]
     },
     "metadata": {},
     "output_type": "display_data"
    }
   ],
   "source": [
    "# plot a pie chat chat to display the class distribution\n",
    "\n",
    "dataframe['Cancer_Type'].value_counts().plot(kind='pie', figsize=(10, 5))"
   ]
  },
  {
   "cell_type": "code",
   "execution_count": 11,
   "id": "fb871301-1537-43a5-aab0-30720a3b6551",
   "metadata": {},
   "outputs": [
    {
     "data": {
      "text/plain": [
       "<bound method PlotAccessor.bar of <pandas.plotting._core.PlotAccessor object at 0x10fac1100>>"
      ]
     },
     "execution_count": 11,
     "metadata": {},
     "output_type": "execute_result"
    }
   ],
   "source": [
    "# plot a bar chat chat to display the class distribution\n",
    "\n",
    "dataframe['Cancer_Type'].value_counts().plot.bar"
   ]
  },
  {
   "cell_type": "markdown",
   "id": "4a8fa079-cda7-4098-8404-c765162980cf",
   "metadata": {},
   "source": [
    "## Cancer Types\n",
    "### BRCA - Breast Cancer\n",
    "### KIRC - Kidney\n",
    "### LUAD - Lung Cancer\n",
    "### PRAD - Prostrate Cancer\n",
    "### COAD - Colon Cancer"
   ]
  },
  {
   "cell_type": "markdown",
   "id": "6cc34572-39be-44d1-8423-17f90e9f6d55",
   "metadata": {},
   "source": [
    "# Data preprocessing\n",
    "### This is to process the data in a suitable format before modelling "
   ]
  },
  {
   "cell_type": "code",
   "execution_count": 12,
   "id": "35c708ee-801d-4c1b-88fb-a6be4e63804a",
   "metadata": {},
   "outputs": [],
   "source": [
    "# separate the features from the target variable.\n",
    "\n",
    "X = dataframe.iloc[:, 0:-1]\n",
    "y = dataframe.iloc[:,-1]"
   ]
  },
  {
   "cell_type": "code",
   "execution_count": 13,
   "id": "d8565281-0e9a-4c5d-87fb-e6cfdf092f02",
   "metadata": {},
   "outputs": [
    {
     "data": {
      "text/plain": [
       "(801, 8000)"
      ]
     },
     "execution_count": 13,
     "metadata": {},
     "output_type": "execute_result"
    }
   ],
   "source": [
    "X.shape"
   ]
  },
  {
   "cell_type": "code",
   "execution_count": 14,
   "id": "d8971af9-66b1-4e29-95f2-d86f398ef49b",
   "metadata": {},
   "outputs": [
    {
     "data": {
      "text/plain": [
       "(801,)"
      ]
     },
     "execution_count": 14,
     "metadata": {},
     "output_type": "execute_result"
    }
   ],
   "source": [
    "y.shape"
   ]
  },
  {
   "cell_type": "markdown",
   "id": "308d416e-a9e3-4a3d-a699-c2dcf6bdc8c0",
   "metadata": {},
   "source": [
    "# Encode Labels\n",
    "\n",
    "### The target variable is categorical, and therefore need to be converted to numberic form."
   ]
  },
  {
   "cell_type": "code",
   "execution_count": 16,
   "id": "be503dec-fd85-4e0d-ad57-95e09711f8b6",
   "metadata": {},
   "outputs": [],
   "source": [
    "# Encode the target variables (y) with values between 0 and n_classes-1.\n",
    "# Use the LabelEncoder class\n",
    "\n",
    "label_encoder = LabelEncoder()\n",
    "label_encoder.fit(y)\n",
    "y_encoded = label_encoder.transform(y)\n",
    "labels = label_encoder.classes_\n",
    "classes = np.unique(y_encoded)"
   ]
  },
  {
   "cell_type": "code",
   "execution_count": 19,
   "id": "db2e3ce0-279d-40ae-820b-8ab29ffd9cea",
   "metadata": {},
   "outputs": [
    {
     "data": {
      "text/plain": [
       "array([2, 2, 0, 2, 1, 3, 2, 3, 0, 1, 4, 0, 4, 4, 2, 4, 2, 3, 3, 4, 0, 1,\n",
       "       0, 0, 0, 2, 0, 2, 2, 0, 0, 0, 0, 1, 2, 4, 0, 0, 0, 4, 0, 0, 1, 0,\n",
       "       3, 2, 1, 1, 2, 0, 4, 1, 0, 3, 3, 0, 3, 0, 0, 4, 3, 4, 0, 4, 3, 0,\n",
       "       1, 2, 2, 0, 1, 1, 0, 4, 2, 0, 4, 3, 1, 2, 2, 3, 2, 0, 0, 0, 4, 3,\n",
       "       0, 3, 4, 2, 0, 0, 0, 2, 4, 2, 0, 4, 3, 3, 2, 0, 0, 4, 0, 0, 0, 0,\n",
       "       0, 2, 3, 2, 0, 0, 0, 2, 0, 1, 2, 1, 2, 0, 0, 0, 0, 0, 0, 0, 1, 0,\n",
       "       1, 0, 0, 0, 3, 0, 0, 2, 0, 3, 0, 1, 4, 1, 3, 1, 3, 0, 1, 0, 0, 0,\n",
       "       2, 1, 1, 3, 3, 4, 3, 0, 3, 2, 0, 2, 0, 3, 0, 3, 2, 2, 3, 0, 0, 0,\n",
       "       3, 2, 1, 3, 0, 0, 3, 0, 4, 4, 3, 1, 0, 0, 0, 4, 1, 0, 4, 0, 4, 1,\n",
       "       0, 4, 2, 4, 4, 0, 3, 0, 3, 0, 0, 2, 2, 3, 2, 3, 4, 0, 2, 3, 3, 1,\n",
       "       3, 0, 4, 3, 0, 1, 3, 2, 4, 0, 0, 4, 3, 2, 4, 0, 4, 2, 0, 2, 3, 0,\n",
       "       3, 0, 2, 4, 0, 2, 4, 0, 0, 4, 3, 3, 0, 3, 0, 2, 0, 0, 0, 0, 4, 2,\n",
       "       2, 4, 0, 3, 0, 0, 0, 4, 3, 0, 0, 2, 3, 2, 3, 4, 3, 1, 0, 0, 3, 2,\n",
       "       0, 1, 0, 4, 3, 1, 3, 1, 2, 3, 2, 1, 0, 0, 3, 4, 0, 0, 0, 0, 2, 3,\n",
       "       2, 4, 1, 3, 2, 0, 3, 4, 4, 0, 2, 4, 0, 2, 0, 0, 0, 2, 4, 0, 2, 0,\n",
       "       0, 2, 4, 4, 0, 3, 3, 0, 3, 3, 0, 1, 0, 3, 2, 4, 1, 0, 4, 0, 3, 0,\n",
       "       3, 0, 2, 0, 4, 0, 4, 1, 2, 3, 0, 4, 4, 4, 1, 0, 2, 0, 0, 0, 3, 2,\n",
       "       1, 2, 0, 4, 3, 2, 2, 4, 1, 0, 1, 0, 0, 4, 0, 0, 4, 2, 2, 3, 0, 2,\n",
       "       3, 0, 3, 2, 3, 0, 0, 4, 0, 2, 2, 3, 2, 0, 1, 0, 0, 4, 0, 2, 0, 0,\n",
       "       2, 0, 0, 2, 4, 0, 1, 2, 0, 2, 1, 0, 3, 0, 2, 0, 2, 2, 1, 3, 0, 3,\n",
       "       4, 2, 0, 4, 0, 3, 0, 0, 1, 2, 0, 2, 4, 2, 0, 0, 0, 0, 2, 2, 3, 0,\n",
       "       4, 3, 4, 4, 4, 4, 2, 0, 3, 4, 3, 0, 0, 4, 3, 0, 0, 0, 3, 3, 4, 4,\n",
       "       4, 0, 3, 1, 0, 4, 1, 0, 2, 2, 0, 4, 0, 0, 0, 0, 0, 3, 1, 0, 3, 2,\n",
       "       2, 1, 0, 0, 4, 3, 0, 4, 1, 1, 4, 2, 2, 3, 3, 0, 0, 0, 2, 2, 4, 2,\n",
       "       0, 0, 2, 3, 3, 4, 2, 4, 4, 1, 2, 4, 0, 3, 0, 0, 0, 4, 0, 0, 0, 0,\n",
       "       0, 0, 4, 4, 1, 4, 4, 4, 2, 2, 2, 0, 0, 1, 3, 0, 1, 3, 2, 3, 3, 0,\n",
       "       4, 3, 0, 3, 2, 0, 3, 2, 0, 0, 2, 2, 0, 1, 0, 3, 2, 3, 0, 0, 3, 2,\n",
       "       1, 4, 0, 4, 2, 2, 0, 1, 2, 0, 2, 4, 0, 0, 4, 4, 0, 3, 3, 0, 3, 0,\n",
       "       3, 0, 4, 0, 2, 0, 1, 4, 1, 2, 4, 3, 2, 4, 0, 1, 0, 3, 0, 1, 0, 0,\n",
       "       0, 0, 4, 1, 0, 2, 0, 3, 4, 1, 4, 3, 0, 3, 1, 1, 2, 0, 2, 3, 3, 3,\n",
       "       0, 0, 1, 4, 4, 2, 0, 3, 2, 0, 0, 0, 2, 0, 0, 0, 3, 4, 0, 0, 2, 3,\n",
       "       1, 3, 2, 3, 0, 0, 4, 0, 4, 1, 0, 0, 0, 1, 3, 0, 2, 3, 4, 0, 0, 4,\n",
       "       2, 1, 0, 4, 4, 0, 0, 0, 4, 1, 2, 3, 0, 2, 3, 0, 0, 3, 0, 2, 0, 4,\n",
       "       1, 2, 2, 0, 2, 4, 4, 4, 0, 0, 4, 3, 3, 4, 3, 3, 0, 4, 0, 1, 4, 3,\n",
       "       2, 0, 2, 0, 4, 2, 4, 0, 4, 2, 0, 4, 4, 0, 3, 2, 4, 2, 0, 3, 2, 3,\n",
       "       0, 3, 0, 2, 4, 2, 3, 1, 3, 4, 0, 3, 4, 0, 3, 3, 0, 0, 0, 4, 0, 2,\n",
       "       4, 4, 0, 0, 0, 1, 0, 0, 1])"
      ]
     },
     "execution_count": 19,
     "metadata": {},
     "output_type": "execute_result"
    }
   ],
   "source": [
    "y_encoded"
   ]
  },
  {
   "cell_type": "code",
   "execution_count": 17,
   "id": "0e2ff838-7023-4247-b2cd-503e79b45a65",
   "metadata": {},
   "outputs": [
    {
     "data": {
      "text/plain": [
       "array(['BRCA', 'COAD', 'KIRC', 'LUAD', 'PRAD'], dtype=object)"
      ]
     },
     "execution_count": 17,
     "metadata": {},
     "output_type": "execute_result"
    }
   ],
   "source": [
    "labels"
   ]
  },
  {
   "cell_type": "code",
   "execution_count": 18,
   "id": "ee694716-d268-431f-9d7e-bc66e3987b29",
   "metadata": {},
   "outputs": [
    {
     "data": {
      "text/plain": [
       "array([0, 1, 2, 3, 4])"
      ]
     },
     "execution_count": 18,
     "metadata": {},
     "output_type": "execute_result"
    }
   ],
   "source": [
    "classes"
   ]
  },
  {
   "cell_type": "markdown",
   "id": "57e583fa-e221-4469-b166-54f5ff9b8ab7",
   "metadata": {},
   "source": [
    "## Data Splitting\n",
    "\n",
    "### Split the dataset into training and test set. the training set is initially passed to the machine learning\n",
    "### model. this is to enable the model to identify discriminatory patterns which can be used to make future\n",
    "### predictions. The test data is used to evaluate the model after the training phase.\n"
   ]
  },
  {
   "cell_type": "code",
   "execution_count": 22,
   "id": "eab57fe3-e077-4e5a-b5e1-24ad45efd016",
   "metadata": {},
   "outputs": [],
   "source": [
    "# Split data into training and test set\n",
    "X_train, X_test, y_train, y_test = train_test_split(X,y_encoded, test_size=0.2, random_state=42)"
   ]
  },
  {
   "cell_type": "markdown",
   "id": "cd458196-df05-403e-9cc2-8e70f698b597",
   "metadata": {},
   "source": [
    "## Data Normalization\n",
    "### Data normalization is done so that the values are in the same range. This will improve model \n",
    "### performance and avoid bias\n"
   ]
  },
  {
   "cell_type": "code",
   "execution_count": 23,
   "id": "66d947fd-0ea4-4461-bc47-e65eb56e4efe",
   "metadata": {},
   "outputs": [],
   "source": [
    "# Scale data between 0 and 1\n",
    "\n",
    "min_max_scaler = MinMaxScaler()\n",
    "X_train_norm = min_max_scaler.fit_transform(X_train)\n",
    "X_test_norm = min_max_scaler.fit_transform(X_test)"
   ]
  },
  {
   "cell_type": "markdown",
   "id": "5b96030a-7656-4cdc-b818-b28ffd9a13ed",
   "metadata": {},
   "source": [
    "## Feature Selection using Mutual Information\n",
    "### The purpose of feature selection is to select relevant features for classification. feauture selection is usually used as preprocessing step before the actual learning.\n",
    "### Mutual information algorithm is used to compute the relevance of each feature. the top n (eg.300)\n",
    "## are selected for the machine learning analysis."
   ]
  },
  {
   "cell_type": "code",
   "execution_count": 24,
   "id": "cd2a1e8b-6fc9-44ac-a50f-01d8e83cb0fc",
   "metadata": {},
   "outputs": [],
   "source": [
    "MI = mutual_info_classif(X_train_norm, y_train)"
   ]
  },
  {
   "cell_type": "code",
   "execution_count": 27,
   "id": "03fb18d5-545e-4011-a1e5-f267b3ac249b",
   "metadata": {},
   "outputs": [],
   "source": [
    "# Select top n features. lets say 300\n",
    "# you can modify the value and see how the performance of the model changes.\n",
    "\n",
    "n_features = 300\n",
    "selected_scores_indices = np.argsort(MI)[::-1][0:n_features]"
   ]
  },
  {
   "cell_type": "code",
   "execution_count": 28,
   "id": "819a2f04-5693-4c73-b117-1a4c1785658d",
   "metadata": {},
   "outputs": [],
   "source": [
    "X_train_selected = X_train_norm[:,selected_scores_indices]\n",
    "X_test_selected = X_test_norm[:,selected_scores_indices]"
   ]
  },
  {
   "cell_type": "code",
   "execution_count": 30,
   "id": "41b0dc06-bdae-4b16-8931-64cdfa89ddb3",
   "metadata": {},
   "outputs": [
    {
     "data": {
      "text/plain": [
       "(640, 300)"
      ]
     },
     "execution_count": 30,
     "metadata": {},
     "output_type": "execute_result"
    }
   ],
   "source": [
    "X_train_selected.shape"
   ]
  },
  {
   "cell_type": "code",
   "execution_count": 31,
   "id": "e31bb820-e958-48fd-b511-d5f2b295d778",
   "metadata": {},
   "outputs": [
    {
     "data": {
      "text/plain": [
       "(161, 300)"
      ]
     },
     "execution_count": 31,
     "metadata": {},
     "output_type": "execute_result"
    }
   ],
   "source": [
    "X_test_selected.shape"
   ]
  },
  {
   "cell_type": "code",
   "execution_count": null,
   "id": "ef5b1223-ff34-4e4a-a58a-58540c9046b6",
   "metadata": {},
   "outputs": [],
   "source": []
  }
 ],
 "metadata": {
  "kernelspec": {
   "display_name": "Python 3 (ipykernel)",
   "language": "python",
   "name": "python3"
  },
  "language_info": {
   "codemirror_mode": {
    "name": "ipython",
    "version": 3
   },
   "file_extension": ".py",
   "mimetype": "text/x-python",
   "name": "python",
   "nbconvert_exporter": "python",
   "pygments_lexer": "ipython3",
   "version": "3.12.6"
  }
 },
 "nbformat": 4,
 "nbformat_minor": 5
}
