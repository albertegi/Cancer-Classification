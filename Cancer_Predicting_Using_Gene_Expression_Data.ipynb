{
 "cells": [
  {
   "cell_type": "code",
   "execution_count": 4,
   "id": "3a7d1954-5f32-43a5-951e-779b4fabff7f",
   "metadata": {},
   "outputs": [],
   "source": [
    "import zipfile\n",
    "import io\n",
    "import requests\n",
    "\n",
    "# data handling\n",
    "import pandas as pd\n",
    "import numpy as np\n",
    "\n",
    "# data visualization\n",
    "import matplotlib.pyplot as plt\n",
    "import seaborn as sns\n",
    "from sklearn.model_selection import train_test_split\n",
    "from sklearn.preprocessing import LabelEncoder\n",
    "from sklearn.preprocessing import label_binarize\n",
    "from sklearn.preprocessing import MinMaxScaler\n",
    "\n",
    "# feature selection\n",
    "from sklearn.feature_selection import mutual_info_classif\n",
    "\n",
    "# classification\n",
    "from sklearn.multiclass import OneVsRestClassifier\n",
    "from sklearn.ensemble import RandomForestClassifier\n",
    "\n",
    "# performance metrics\n",
    "from sklearn.metrics import balanced_accuracy_score, f1_score, precision_score, recall_score\n",
    "from sklearn.metrics import classification_report\n",
    "from sklearn.metrics import confusion_matrix\n",
    "from sklearn.metrics import roc_curve, auc\n",
    "from sklearn.metrics import roc_auc_score"
   ]
  },
  {
   "cell_type": "code",
   "execution_count": 5,
   "id": "523bc6d9-c8eb-4ece-8e75-183769e5ad7d",
   "metadata": {},
   "outputs": [
    {
     "name": "stdout",
     "output_type": "stream",
     "text": [
      "['cancer_gene_expression.csv']\n",
      "   gene_1  gene_2  gene_3    gene_4  gene_5  gene_6  gene_7  gene_8    gene_9  \\\n",
      "0     0.0     0.0     0.0  2.088413     0.0     0.0     0.0     0.0  0.550605   \n",
      "1     0.0     0.0     0.0  3.205955     0.0     0.0     0.0     0.0  0.425244   \n",
      "2     0.0     0.0     0.0  4.746646     0.0     0.0     0.0     0.0  2.639417   \n",
      "3     0.0     0.0     0.0  1.173191     0.0     0.0     0.0     0.0  1.527371   \n",
      "4     0.0     0.0     0.0  1.366532     0.0     0.0     0.0     0.0  0.000000   \n",
      "\n",
      "    gene_10  ...  gene_7992  gene_7993  gene_7994  gene_7995  gene_7996  \\\n",
      "0  2.815760  ...  11.558803   8.881802   6.014840   6.643534  11.740624   \n",
      "1  2.354396  ...  11.062829   9.032864   5.054193   6.432320  12.104985   \n",
      "2  1.657091  ...  12.497640   7.198160   0.943434   7.371690  11.202356   \n",
      "3  2.732899  ...  11.261713   8.725676   6.300418   6.036451  11.732303   \n",
      "4  3.388355  ...  12.241965   7.685204   5.142948   6.355788  11.493950   \n",
      "\n",
      "   gene_7997  gene_7998  gene_7999  gene_8000  Cancer_Type  \n",
      "0   7.065012   9.932659   6.928584   2.088413         KIRC  \n",
      "1   7.300746   9.872796   5.039231   2.448002         KIRC  \n",
      "2   8.426588  11.176890   3.119738   4.433988         BRCA  \n",
      "3   7.559469   9.596453   2.863046   3.380342         KIRC  \n",
      "4   8.139444  10.189256   6.544487   0.839395         COAD  \n",
      "\n",
      "[5 rows x 8001 columns]\n"
     ]
    }
   ],
   "source": [
    "# URL of the zip file on GitHub\n",
    "file_url = \"https://github.com/albertegi/Cancer-Classification/blob/main/cancer_gene_expression.zip?raw=true\"\n",
    "\n",
    "# Step 1: Download the zip file\n",
    "response = requests.get(file_url)\n",
    "response.raise_for_status()  # Ensure the download was successful\n",
    "\n",
    "# Step 2: Open the zip file in memory\n",
    "with zipfile.ZipFile(io.BytesIO(response.content)) as z:\n",
    "    # List files in the zip\n",
    "    print(z.namelist())\n",
    "    #extract and read it the csv file directly\n",
    "    with z.open('cancer_gene_expression.csv') as f:\n",
    "        dataframe = pd.read_csv(f)\n",
    "\n",
    "# Now `dataframe` should contain the data from the CSV file\n",
    "print(dataframe.head())"
   ]
  },
  {
   "cell_type": "markdown",
   "id": "8a8d9b6c-f133-460e-855f-4556510caf5f",
   "metadata": {},
   "source": [
    "# Data Exploration & Cleaning"
   ]
  },
  {
   "cell_type": "code",
   "execution_count": 7,
   "id": "bf0fa19f-ae49-44db-b051-326e6faf5a14",
   "metadata": {},
   "outputs": [
    {
     "name": "stdout",
     "output_type": "stream",
     "text": [
      "(801, 8001)\n"
     ]
    }
   ],
   "source": [
    "# Check the number of features and samples in the dataset\n",
    "# The last column contains the target variable\n",
    "print(dataframe.shape)"
   ]
  },
  {
   "cell_type": "code",
   "execution_count": 9,
   "id": "fd9cf330-781d-4c59-afa4-2efc78bbe104",
   "metadata": {},
   "outputs": [
    {
     "name": "stdout",
     "output_type": "stream",
     "text": [
      "Index(['gene_1', 'gene_2', 'gene_3', 'gene_4', 'gene_5'], dtype='object')\n"
     ]
    }
   ],
   "source": [
    "# Check the first five columns in the dataset\n",
    "print(dataframe.columns[0:5])"
   ]
  },
  {
   "cell_type": "code",
   "execution_count": 11,
   "id": "aae05ad2-e510-417e-8e08-e3baac046df9",
   "metadata": {},
   "outputs": [
    {
     "data": {
      "text/plain": [
       "'Cancer_Type'"
      ]
     },
     "execution_count": 11,
     "metadata": {},
     "output_type": "execute_result"
    }
   ],
   "source": [
    "# Check the name of the last column\n",
    "dataframe.columns[-1]"
   ]
  },
  {
   "cell_type": "code",
   "execution_count": 15,
   "id": "548297a8-bc0d-49fa-9657-de860224201c",
   "metadata": {},
   "outputs": [
    {
     "name": "stdout",
     "output_type": "stream",
     "text": [
      "Colums with missing values:0\n"
     ]
    }
   ],
   "source": [
    "#Check for missing values\n",
    "\n",
    "data_null_values = dataframe.isnull().sum()\n",
    "null_values = [data_null_value for data_null_value in data_null_values if data_null_value > 0]\n",
    "print('Colums with missing values:%d'%len(null_values))\n",
    "\n",
    "\n"
   ]
  },
  {
   "cell_type": "code",
   "execution_count": null,
   "id": "7f854b45-8f16-4474-beb4-12617fd53d7c",
   "metadata": {},
   "outputs": [],
   "source": []
  }
 ],
 "metadata": {
  "kernelspec": {
   "display_name": "Python 3 (ipykernel)",
   "language": "python",
   "name": "python3"
  },
  "language_info": {
   "codemirror_mode": {
    "name": "ipython",
    "version": 3
   },
   "file_extension": ".py",
   "mimetype": "text/x-python",
   "name": "python",
   "nbconvert_exporter": "python",
   "pygments_lexer": "ipython3",
   "version": "3.12.6"
  }
 },
 "nbformat": 4,
 "nbformat_minor": 5
}
